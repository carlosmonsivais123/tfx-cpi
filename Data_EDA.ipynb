{
 "cells": [
  {
   "cell_type": "code",
   "execution_count": 16,
   "metadata": {},
   "outputs": [],
   "source": [
    "import pandas as pd\n",
    "import pandas_gbq\n",
    "\n",
    "import plotly.graph_objects as go\n",
    "from plotly.subplots import make_subplots"
   ]
  },
  {
   "cell_type": "code",
   "execution_count": 22,
   "metadata": {},
   "outputs": [],
   "source": [
    "import plotly.express as px"
   ]
  },
  {
   "cell_type": "code",
   "execution_count": 11,
   "metadata": {},
   "outputs": [],
   "source": [
    "query = '''SELECT * FROM `cpi-tfx.BLS_Data.apparel_13`'''\n",
    "data = pd.read_gbq(query = query, project_id = 'cpi-tfx')"
   ]
  },
  {
   "cell_type": "code",
   "execution_count": 12,
   "metadata": {},
   "outputs": [
    {
     "data": {
      "text/html": [
       "<div>\n",
       "<style scoped>\n",
       "    .dataframe tbody tr th:only-of-type {\n",
       "        vertical-align: middle;\n",
       "    }\n",
       "\n",
       "    .dataframe tbody tr th {\n",
       "        vertical-align: top;\n",
       "    }\n",
       "\n",
       "    .dataframe thead th {\n",
       "        text-align: right;\n",
       "    }\n",
       "</style>\n",
       "<table border=\"1\" class=\"dataframe\">\n",
       "  <thead>\n",
       "    <tr style=\"text-align: right;\">\n",
       "      <th></th>\n",
       "      <th>series_id</th>\n",
       "      <th>year</th>\n",
       "      <th>period</th>\n",
       "      <th>value</th>\n",
       "      <th>footnote_codes</th>\n",
       "      <th>period_abr</th>\n",
       "      <th>item</th>\n",
       "      <th>area_code_desc</th>\n",
       "      <th>periodicity</th>\n",
       "      <th>seasonality</th>\n",
       "    </tr>\n",
       "  </thead>\n",
       "  <tbody>\n",
       "    <tr>\n",
       "      <th>0</th>\n",
       "      <td>CUURS000SAA</td>\n",
       "      <td>1987</td>\n",
       "      <td>M04</td>\n",
       "      <td>105.4</td>\n",
       "      <td>NaN</td>\n",
       "      <td>APR</td>\n",
       "      <td>Apparel</td>\n",
       "      <td>Size Class A</td>\n",
       "      <td>Monthly</td>\n",
       "      <td>Not Seasonally Adjusted</td>\n",
       "    </tr>\n",
       "    <tr>\n",
       "      <th>1</th>\n",
       "      <td>CUURS000SAA</td>\n",
       "      <td>1988</td>\n",
       "      <td>M04</td>\n",
       "      <td>109.6</td>\n",
       "      <td>NaN</td>\n",
       "      <td>APR</td>\n",
       "      <td>Apparel</td>\n",
       "      <td>Size Class A</td>\n",
       "      <td>Monthly</td>\n",
       "      <td>Not Seasonally Adjusted</td>\n",
       "    </tr>\n",
       "    <tr>\n",
       "      <th>2</th>\n",
       "      <td>CUURS000SAA</td>\n",
       "      <td>1989</td>\n",
       "      <td>M04</td>\n",
       "      <td>113.3</td>\n",
       "      <td>NaN</td>\n",
       "      <td>APR</td>\n",
       "      <td>Apparel</td>\n",
       "      <td>Size Class A</td>\n",
       "      <td>Monthly</td>\n",
       "      <td>Not Seasonally Adjusted</td>\n",
       "    </tr>\n",
       "    <tr>\n",
       "      <th>3</th>\n",
       "      <td>CUURS000SAA</td>\n",
       "      <td>1990</td>\n",
       "      <td>M04</td>\n",
       "      <td>119.1</td>\n",
       "      <td>NaN</td>\n",
       "      <td>APR</td>\n",
       "      <td>Apparel</td>\n",
       "      <td>Size Class A</td>\n",
       "      <td>Monthly</td>\n",
       "      <td>Not Seasonally Adjusted</td>\n",
       "    </tr>\n",
       "    <tr>\n",
       "      <th>4</th>\n",
       "      <td>CUURS000SAA</td>\n",
       "      <td>1991</td>\n",
       "      <td>M04</td>\n",
       "      <td>121.7</td>\n",
       "      <td>NaN</td>\n",
       "      <td>APR</td>\n",
       "      <td>Apparel</td>\n",
       "      <td>Size Class A</td>\n",
       "      <td>Monthly</td>\n",
       "      <td>Not Seasonally Adjusted</td>\n",
       "    </tr>\n",
       "  </tbody>\n",
       "</table>\n",
       "</div>"
      ],
      "text/plain": [
       "           series_id  year period  value  footnote_codes period_abr     item  \\\n",
       "0  CUURS000SAA        1987    M04  105.4             NaN        APR  Apparel   \n",
       "1  CUURS000SAA        1988    M04  109.6             NaN        APR  Apparel   \n",
       "2  CUURS000SAA        1989    M04  113.3             NaN        APR  Apparel   \n",
       "3  CUURS000SAA        1990    M04  119.1             NaN        APR  Apparel   \n",
       "4  CUURS000SAA        1991    M04  121.7             NaN        APR  Apparel   \n",
       "\n",
       "  area_code_desc periodicity              seasonality  \n",
       "0   Size Class A     Monthly  Not Seasonally Adjusted  \n",
       "1   Size Class A     Monthly  Not Seasonally Adjusted  \n",
       "2   Size Class A     Monthly  Not Seasonally Adjusted  \n",
       "3   Size Class A     Monthly  Not Seasonally Adjusted  \n",
       "4   Size Class A     Monthly  Not Seasonally Adjusted  "
      ]
     },
     "execution_count": 12,
     "metadata": {},
     "output_type": "execute_result"
    }
   ],
   "source": [
    "data.head()"
   ]
  },
  {
   "cell_type": "code",
   "execution_count": 20,
   "metadata": {},
   "outputs": [],
   "source": [
    "data_item_list = list(data['item'].unique())"
   ]
  },
  {
   "cell_type": "code",
   "execution_count": 21,
   "metadata": {},
   "outputs": [
    {
     "data": {
      "text/plain": [
       "24"
      ]
     },
     "execution_count": 21,
     "metadata": {},
     "output_type": "execute_result"
    }
   ],
   "source": [
    "len(data_item_list)"
   ]
  },
  {
   "cell_type": "code",
   "execution_count": null,
   "metadata": {},
   "outputs": [],
   "source": [
    "i = 1\n",
    "j = 1\n",
    "\n",
    "fig = make_subplots(\n",
    "    rows = 6, cols = 4,\n",
    "    subplot_titles = data_item_list)\n",
    "\n",
    "for value in data_item_list:\n",
    "    fig.add_trace(go.Scatter(x = data[data['item'] == '{}'.format(value)]['year'], \n",
    "                             y = data[data['item'] == '{}'.format(value)]['value']),\n",
    "                  row = i, col = j)\n",
    "\n",
    "\n",
    "fig.add_trace(go.Scatter(x=[1, 2, 3], y=[4, 5, 6]),\n",
    "              row=1, col=1)\n",
    "\n",
    "fig.add_trace(go.Scatter(x=[20, 30, 40], y=[50, 60, 70]),\n",
    "              row=1, col=2)\n",
    "\n",
    "fig.add_trace(go.Scatter(x=[300, 400, 500], y=[600, 700, 800]),\n",
    "              row=2, col=1)\n",
    "\n",
    "fig.add_trace(go.Scatter(x=[4000, 5000, 6000], y=[7000, 8000, 9000]),\n",
    "              row=2, col=2)\n",
    "\n",
    "\n",
    "fig.show()"
   ]
  },
  {
   "cell_type": "code",
   "execution_count": null,
   "metadata": {},
   "outputs": [],
   "source": [
    "fig = go.Figure()\n",
    "\n",
    "# Add traces\n",
    "fig.add_trace(go.Scatter(x=random_x, y=random_y0,\n",
    "                    mode='markers',\n",
    "                    name='markers'))\n",
    "fig.add_trace(go.Scatter(x=random_x, y=random_y1,\n",
    "                    mode='lines+markers',\n",
    "                    name='lines+markers'))\n",
    "fig.add_trace(go.Scatter(x=random_x, y=random_y2,\n",
    "                    mode='lines',\n",
    "                    name='lines'))\n",
    "\n",
    "fig.show()"
   ]
  }
 ],
 "metadata": {
  "interpreter": {
   "hash": "8aa8a51b8efaa771e93b10cdaad7dbcc816a82abc4d0860afcffa9c8edfb3c1b"
  },
  "kernelspec": {
   "display_name": "Python 3.8.8 64-bit ('cpi_env')",
   "name": "python3"
  },
  "language_info": {
   "codemirror_mode": {
    "name": "ipython",
    "version": 3
   },
   "file_extension": ".py",
   "mimetype": "text/x-python",
   "name": "python",
   "nbconvert_exporter": "python",
   "pygments_lexer": "ipython3",
   "version": "3.8.8"
  },
  "orig_nbformat": 4
 },
 "nbformat": 4,
 "nbformat_minor": 2
}