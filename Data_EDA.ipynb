{
 "cells": [
  {
   "cell_type": "code",
   "execution_count": 1,
   "metadata": {},
   "outputs": [],
   "source": [
    "import pandas as pd\n",
    "import pandas_gbq\n",
    "\n",
    "import plotly.graph_objects as go\n",
    "from plotly.subplots import make_subplots\n",
    "\n",
    "from Variables.create_vars import *\n",
    "from BigQuery_Classes.bq_client import BQ_Client_Connect"
   ]
  },
  {
   "cell_type": "code",
   "execution_count": 2,
   "metadata": {},
   "outputs": [],
   "source": [
    "connect_client = BQ_Client_Connect()\n",
    "client = connect_client.create_client()\n",
    "\n",
    "tables = client.list_tables(bq_dataset_id)"
   ]
  },
  {
   "cell_type": "code",
   "execution_count": 3,
   "metadata": {},
   "outputs": [],
   "source": [
    "cpi_table_names = []\n",
    "for table in tables:\n",
    "    cpi_table_names.append(\"{}.{}.{}\".format(table.project, table.dataset_id, table.table_id))  "
   ]
  },
  {
   "cell_type": "code",
   "execution_count": 4,
   "metadata": {},
   "outputs": [],
   "source": [
    "cpi_table_names = [i for i in cpi_table_names if not ('current_0' in i or 'summaries_2' in i)]  "
   ]
  },
  {
   "cell_type": "code",
   "execution_count": 5,
   "metadata": {},
   "outputs": [
    {
     "data": {
      "text/plain": [
       "['cpi-tfx.BLS_Data.all_items_1',\n",
       " 'cpi-tfx.BLS_Data.apparel_13',\n",
       " 'cpi-tfx.BLS_Data.commodities_services_special_20',\n",
       " 'cpi-tfx.BLS_Data.education_and_communication_17',\n",
       " 'cpi-tfx.BLS_Data.food_beverage_11',\n",
       " 'cpi-tfx.BLS_Data.housing_12',\n",
       " 'cpi-tfx.BLS_Data.medical_15',\n",
       " 'cpi-tfx.BLS_Data.other_goods_and_services_18',\n",
       " 'cpi-tfx.BLS_Data.recreation_16',\n",
       " 'cpi-tfx.BLS_Data.transportation_14']"
      ]
     },
     "execution_count": 5,
     "metadata": {},
     "output_type": "execute_result"
    }
   ],
   "source": [
    "cpi_table_names"
   ]
  },
  {
   "cell_type": "code",
   "execution_count": 6,
   "metadata": {},
   "outputs": [],
   "source": [
    "# plot_heights= [500, 2000, 2500]\n",
    "plot_heights= [500, 2000, 2500, 2000, 12000, 4000, 2000, 2000, 4000, 2500]\n",
    "height_counter = 0"
   ]
  },
  {
   "cell_type": "code",
   "execution_count": 7,
   "metadata": {},
   "outputs": [],
   "source": [
    "counter = 0\n",
    "i = 1\n",
    "j = 1\n",
    "k = 1"
   ]
  },
  {
   "cell_type": "code",
   "execution_count": 10,
   "metadata": {},
   "outputs": [
    {
     "ename": "IndexError",
     "evalue": "index 3 is out of bounds for axis 0 with size 2",
     "output_type": "error",
     "traceback": [
      "\u001b[0;31m---------------------------------------------------------------------------\u001b[0m",
      "\u001b[0;31mIndexError\u001b[0m                                Traceback (most recent call last)",
      "Input \u001b[0;32mIn [10]\u001b[0m, in \u001b[0;36m<module>\u001b[0;34m\u001b[0m\n\u001b[1;32m     49\u001b[0m i \u001b[38;5;241m=\u001b[39m i \u001b[38;5;241m+\u001b[39m \u001b[38;5;241m1\u001b[39m\n\u001b[1;32m     50\u001b[0m j \u001b[38;5;241m=\u001b[39m \u001b[38;5;241m1\u001b[39m\n\u001b[0;32m---> 52\u001b[0m fig\u001b[38;5;241m.\u001b[39madd_trace(go\u001b[38;5;241m.\u001b[39mScatter(x \u001b[38;5;241m=\u001b[39m data[data[\u001b[38;5;124m'\u001b[39m\u001b[38;5;124mitem\u001b[39m\u001b[38;5;124m'\u001b[39m] \u001b[38;5;241m==\u001b[39m \u001b[38;5;124m'\u001b[39m\u001b[38;5;132;01m{}\u001b[39;00m\u001b[38;5;124m'\u001b[39m\u001b[38;5;241m.\u001b[39mformat(\u001b[43mdata_item_list\u001b[49m\u001b[43m[\u001b[49m\u001b[43mcounter\u001b[49m\u001b[43m]\u001b[49m)][\u001b[38;5;124m'\u001b[39m\u001b[38;5;124mdate\u001b[39m\u001b[38;5;124m'\u001b[39m], \n\u001b[1;32m     53\u001b[0m                         y \u001b[38;5;241m=\u001b[39m data[data[\u001b[38;5;124m'\u001b[39m\u001b[38;5;124mitem\u001b[39m\u001b[38;5;124m'\u001b[39m] \u001b[38;5;241m==\u001b[39m \u001b[38;5;124m'\u001b[39m\u001b[38;5;132;01m{}\u001b[39;00m\u001b[38;5;124m'\u001b[39m\u001b[38;5;241m.\u001b[39mformat(data_item_list[counter])][\u001b[38;5;124m'\u001b[39m\u001b[38;5;124mvalue\u001b[39m\u001b[38;5;124m'\u001b[39m],\n\u001b[1;32m     54\u001b[0m                         mode \u001b[38;5;241m=\u001b[39m \u001b[38;5;124m'\u001b[39m\u001b[38;5;124mlines+markers\u001b[39m\u001b[38;5;124m'\u001b[39m),\n\u001b[1;32m     55\u001b[0m                         row \u001b[38;5;241m=\u001b[39m i, \n\u001b[1;32m     56\u001b[0m                         col \u001b[38;5;241m=\u001b[39m j)\n\u001b[1;32m     58\u001b[0m fig\u001b[38;5;241m.\u001b[39mupdate_xaxes(title_text \u001b[38;5;241m=\u001b[39m \u001b[38;5;124m'\u001b[39m\u001b[38;5;124mDate\u001b[39m\u001b[38;5;124m'\u001b[39m, row \u001b[38;5;241m=\u001b[39m i, col \u001b[38;5;241m=\u001b[39m j)\n\u001b[1;32m     59\u001b[0m fig\u001b[38;5;241m.\u001b[39mupdate_yaxes(title_text \u001b[38;5;241m=\u001b[39m \u001b[38;5;124m'\u001b[39m\u001b[38;5;124mIndex\u001b[39m\u001b[38;5;124m'\u001b[39m, row \u001b[38;5;241m=\u001b[39m i, col \u001b[38;5;241m=\u001b[39m j)\n",
      "\u001b[0;31mIndexError\u001b[0m: index 3 is out of bounds for axis 0 with size 2"
     ]
    }
   ],
   "source": [
    "for cpi_table in cpi_table_names:\n",
    "    query = '''SELECT * \n",
    "            FROM `{}`\n",
    "            '''.format(cpi_table)\n",
    "    data = pd.read_gbq(query = query, project_id = 'cpi-tfx')\n",
    "    data.sort_values(by = ['date'], inplace = True)\n",
    "    data.reset_index(drop = True, inplace = True)\n",
    "\n",
    "    data_item_list = data['item'].unique()\n",
    "\n",
    "    if len(data_item_list)%2 == 0:\n",
    "        columns = 2\n",
    "        rows = int(len(data_item_list)/2)\n",
    "\n",
    "    else:\n",
    "        columns = 2\n",
    "        rows = int((len(data_item_list) + 1 )/2)\n",
    "\n",
    "    fig = make_subplots(rows = rows, \n",
    "                        cols = columns,\n",
    "                        subplot_titles = data_item_list)\n",
    "\n",
    "    counter = 0\n",
    "    i = 1\n",
    "    j = 1\n",
    "    k = 1\n",
    "\n",
    "    while counter <= len(data_item_list):\n",
    "\n",
    "        if k <= columns:\n",
    "\n",
    "            fig.add_trace(go.Scatter(x = data[data['item'] == '{}'.format(data_item_list[counter])]['date'], \n",
    "                                    y = data[data['item'] == '{}'.format(data_item_list[counter])]['value'],\n",
    "                                    mode = 'lines+markers'),\n",
    "                                    row = i, \n",
    "                                    col = j)\n",
    "\n",
    "            fig.update_xaxes(title_text = 'Date', row = i, col = j)\n",
    "            fig.update_yaxes(title_text = 'Index', row = i, col = j)\n",
    "\n",
    "            counter = counter + 1\n",
    "            j = j + 1\n",
    "            k = k + 1\n",
    "\n",
    "\n",
    "        elif k > columns:\n",
    "            k = 1\n",
    "            counter = counter + 1\n",
    "            i = i + 1\n",
    "            j = 1\n",
    "        \n",
    "            fig.add_trace(go.Scatter(x = data[data['item'] == '{}'.format(data_item_list[counter])]['date'], \n",
    "                                    y = data[data['item'] == '{}'.format(data_item_list[counter])]['value'],\n",
    "                                    mode = 'lines+markers'),\n",
    "                                    row = i, \n",
    "                                    col = j)\n",
    "\n",
    "            fig.update_xaxes(title_text = 'Date', row = i, col = j)\n",
    "            fig.update_yaxes(title_text = 'Index', row = i, col = j)\n",
    "\n",
    "            k = k + 1\n",
    "            j = j + 1\n",
    "\n",
    "    fig.update_layout(height = plot_heights[height_counter], \n",
    "                      showlegend = False,\n",
    "                      title={'text': '<b>{}</b>'.format(cpi_table),\n",
    "                             'x':0.5,\n",
    "                             'xanchor': 'center',\n",
    "                             'yanchor': 'top'})\n",
    "\n",
    "    height_counter = height_counter + 1\n",
    "\n",
    "    fig.show()"
   ]
  },
  {
   "cell_type": "code",
   "execution_count": null,
   "metadata": {},
   "outputs": [],
   "source": []
  }
 ],
 "metadata": {
  "interpreter": {
   "hash": "8aa8a51b8efaa771e93b10cdaad7dbcc816a82abc4d0860afcffa9c8edfb3c1b"
  },
  "kernelspec": {
   "display_name": "Python 3.8.8 64-bit ('cpi_env')",
   "name": "python3"
  },
  "language_info": {
   "codemirror_mode": {
    "name": "ipython",
    "version": 3
   },
   "file_extension": ".py",
   "mimetype": "text/x-python",
   "name": "python",
   "nbconvert_exporter": "python",
   "pygments_lexer": "ipython3",
   "version": "3.8.8"
  },
  "orig_nbformat": 4
 },
 "nbformat": 4,
 "nbformat_minor": 2
}